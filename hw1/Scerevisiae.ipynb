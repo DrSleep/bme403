{
 "cells": [
  {
   "cell_type": "markdown",
   "metadata": {},
   "source": [
    "## 1. How many sequences?\n",
    "## 2. The lenght of sequences?\n",
    "## 3. The longest (shortest) sequences?\n",
    "## 4. Amino-acid frequency?"
   ]
  },
  {
   "cell_type": "code",
   "execution_count": 1,
   "metadata": {
    "collapsed": true
   },
   "outputs": [],
   "source": [
    "import gzip\n",
    "import re\n",
    "import matplotlib\n",
    "%matplotlib inline\n",
    "import matplotlib.pyplot as plt\n",
    "#from collections import OrderedDict\n",
    "import numpy as np"
   ]
  },
  {
   "cell_type": "code",
   "execution_count": 2,
   "metadata": {
    "collapsed": false
   },
   "outputs": [],
   "source": [
    "with gzip.GzipFile('Scerevisiae_orf_trans.20150113.fa.gz.gz', 'r') as gz:\n",
    "    keys = [] # for dictionary(key = sequence description, \n",
    "    values = [] # value = sequence)\n",
    "    for line in gz:\n",
    "        trimmed_line = line.strip('\\n') # remove line separator\n",
    "        if trimmed_line.startswith('>'):\n",
    "            keys.append(trimmed_line.strip('>')) # initialise new sequence\n",
    "            values.append('')\n",
    "        else:\n",
    "            values[-1] += re.sub('\\*', '', trimmed_line) # if key already exists, just append the new line to the sequence"
   ]
  },
  {
   "cell_type": "code",
   "execution_count": 3,
   "metadata": {
    "collapsed": false
   },
   "outputs": [],
   "source": [
    "seq_dict = dict(zip(keys, values)) # create dictionary of the type (key = description, value = sequence)"
   ]
  },
  {
   "cell_type": "code",
   "execution_count": 4,
   "metadata": {
    "collapsed": false
   },
   "outputs": [
    {
     "data": {
      "text/plain": [
       "5917"
      ]
     },
     "execution_count": 4,
     "metadata": {},
     "output_type": "execute_result"
    }
   ],
   "source": [
    "len(seq_dict)"
   ]
  },
  {
   "cell_type": "markdown",
   "metadata": {},
   "source": [
    "## 1. 5917 sequences"
   ]
  },
  {
   "cell_type": "code",
   "execution_count": 5,
   "metadata": {
    "collapsed": false
   },
   "outputs": [],
   "source": [
    "seq_dict_len = dict(map(lambda (k, v): (k, (v, len(v))), seq_dict.iteritems())) # description -> (sequence, len(sequence))"
   ]
  },
  {
   "cell_type": "code",
   "execution_count": 6,
   "metadata": {
    "collapsed": false
   },
   "outputs": [
    {
     "data": {
      "text/plain": [
       "('MVLTIYPDELVQIVSDKIASNKGKITLNQLWDISGKYFDLSDKKVKQFVLSCVILKKDIEVYCDGAITTKNVTDIIGDANHSYSVGITEDSLWTLLTGYTKKESTIGNSAFELLLEVAKSGEKGINTMDLAQVTGQDPRSVTGRIKKINHLLTSSQLIYKGHVVKQLKLKKFSHDGVDSNPYINIRDHLATIVEVVKRSKNGIRQIIDLKRELKFDKEKRLSKAFIAAIAWLDEKEYLKKVLVVSPKNPAIKIRCVKYVKDIPDSKGSPSFEYDSNSADEDSVSDSKAAFEDEDLVEGLDNFNATDLLQNQGLVMEEKEDAVKNEVLLNRFYPLQNQTYDIADKSGLKGISTMDVVNRITGKEFQRAFTKSSEYYLESVDKQKENTGGYRLFRIYDFEGKKKFFRLFTAQNFQKLTNAEDEISVPKGFDELGKSRTDLKTLNEDNFVALNNTVRFTTDSDGQDIFFWHGELKIPPNSKKTPNKNKRKRQVKNSTNASVAGNISNPKRIKLEQHVSTAQEPKSAEDSPSSNGGTVVKGKVVNFGGFSARSLRSLQRQRAILKVMNTIGGVAYLREQFYESVSKYMGSTTTLDKKTVRGDVDLMVESEKLGARTEPVSGRKIIFLPTVGEDAIQRYILKEKDSKKATFTDVIHDTEIYFFDQTEKNRFHRGKKSVERIRKFQNRQKNAKIKASDDAISKKSTSVNVSDGKIKRRDKKVSAGRTTVVVENTKEDKTVYHAGTKDGVQALIRAVVVTKSIKNEIMWDKITKLFPNNSLDNLKKKWTARRVRMGHSGWRAYVDKWKKMLVLAIKSEKISLRDVEELDLIKLLDIWTSFDEKEIKRPLFLYKNYEENRKKFTLVRDDTLTHSGNDLAMSSMIQREISSLKKTYTRKISASTKDLSKSQSDDYIRTVIRSILIESPSTTRNEIEALKNVGNESIDNVIMDMAKEKQIYLHGSKLECTDTLPDILENRGNYKDFGVAFQYRCKVNELLEAGNAIVINQEPSDISSWVLIDLISGELLNMDVIPMVRNVRPLTYTSRRFEIRTLTPPLIIYANSQTKLNTARKSAVKVPLGKPFSRLWVNGSGSIRPNIWKQVVTMVVNEIIFHPGITLSRLQSRCREVLSLHEISEICKWLLERQVLITTDFDGYWVNHNWYSIYEST',\n",
       " 1160)"
      ]
     },
     "execution_count": 6,
     "metadata": {},
     "output_type": "execute_result"
    }
   ],
   "source": [
    "seq_dict_len[keys[0]]"
   ]
  },
  {
   "cell_type": "code",
   "execution_count": 7,
   "metadata": {
    "collapsed": true
   },
   "outputs": [],
   "source": [
    "seq_list = seq_dict_len.items()"
   ]
  },
  {
   "cell_type": "code",
   "execution_count": 8,
   "metadata": {
    "collapsed": true
   },
   "outputs": [],
   "source": [
    "seq_list.sort(key=lambda x:x[1][1]) # sorted by decreasing order of the length of the sequence"
   ]
  },
  {
   "cell_type": "markdown",
   "metadata": {},
   "source": [
    "## 2. Lengths of the sequences"
   ]
  },
  {
   "cell_type": "code",
   "execution_count": 9,
   "metadata": {
    "collapsed": true
   },
   "outputs": [],
   "source": [
    "lengths_vals = map(lambda x: x[1][1], seq_list) # all values of the length of the sequence"
   ]
  },
  {
   "cell_type": "code",
   "execution_count": 10,
   "metadata": {
    "collapsed": false
   },
   "outputs": [
    {
     "data": {
      "image/png": "[encoded data removed]",
      "text/plain": [
       "<matplotlib.figure.Figure at 0x107b22f90>"
      ]
     },
     "metadata": {},
     "output_type": "display_data"
    }
   ],
   "source": [
    "plt.hist(lengths_vals, bins = 50)\n",
    "plt.title('Distribution of lengths of the sequences')\n",
    "plt.xlabel('Lengths')\n",
    "plt.ylabel('Num. of sequences')\n",
    "plt.show()"
   ]
  },
  {
   "cell_type": "code",
   "execution_count": 11,
   "metadata": {
    "collapsed": false
   },
   "outputs": [
    {
     "data": {
      "text/plain": [
       "4910"
      ]
     },
     "execution_count": 11,
     "metadata": {},
     "output_type": "execute_result"
    }
   ],
   "source": [
    "max(lengths_vals) # max value"
   ]
  },
  {
   "cell_type": "code",
   "execution_count": 12,
   "metadata": {
    "collapsed": true
   },
   "outputs": [],
   "source": [
    "max_seqs = filter(lambda x: x[1][1] == max(lengths_vals), seq_list) # max sequence(s)"
   ]
  },
  {
   "cell_type": "code",
   "execution_count": 13,
   "metadata": {
    "collapsed": false
   },
   "outputs": [
    {
     "name": "stdout",
     "output_type": "stream",
     "text": [
      "There is only one sequence with the maximum sequence length of 4910\n",
      "['YLR106C MDN1 SGDID:S000004096, Chr XII from 363738-349006, Genome Release 64-2-1, reverse complement, Verified ORF, \"Huge dynein-related AAA-type ATPase (midasin); forms extended pre-60S particle with the Rix1 complex (Rix1p-Ipi1p-Ipi3p); acts in removal of ribosomal biogenesis factors at successive steps of pre-60S assembly and export from nucleus\"']\n"
     ]
    }
   ],
   "source": [
    "max_seqs_names = map(lambda x: x[0], max_seqs)\n",
    "if len(max_seqs) == 1:\n",
    "    print \"There is only one sequence with the maximum sequence length of %d\" % max(lengths_vals)\n",
    "else:\n",
    "    print \"There are %d sequences with the maximum length of %d\" % (len(max_seqs), max(lengths_vals))\n",
    "print max_seqs_names"
   ]
  },
  {
   "cell_type": "code",
   "execution_count": 14,
   "metadata": {
    "collapsed": false
   },
   "outputs": [
    {
     "data": {
      "text/plain": [
       "16"
      ]
     },
     "execution_count": 14,
     "metadata": {},
     "output_type": "execute_result"
    }
   ],
   "source": [
    "min(lengths_vals)"
   ]
  },
  {
   "cell_type": "code",
   "execution_count": 15,
   "metadata": {
    "collapsed": true
   },
   "outputs": [],
   "source": [
    "min_seqs = filter(lambda x: x[1][1] == min(lengths_vals), seq_list) # min sequence(s)"
   ]
  },
  {
   "cell_type": "code",
   "execution_count": 16,
   "metadata": {
    "collapsed": false
   },
   "outputs": [
    {
     "name": "stdout",
     "output_type": "stream",
     "text": [
      "There is only one sequence with the minimum sequence length of 16\n",
      "['YJR151W-A YJR151W-A SGDID:S000028557, Chr X from 717580-717630, Genome Release 64-2-1, Uncharacterized ORF, \"Putative protein of unknown function; identified by fungal homology and RT-PCR; predicted to have a role in transcription based on computational \"guilt by association\" analysis\"']\n"
     ]
    }
   ],
   "source": [
    "min_seqs_names = map(lambda x: x[0], min_seqs)\n",
    "if len(min_seqs) == 1:\n",
    "    print \"There is only one sequence with the minimum sequence length of %d\" % min(lengths_vals)\n",
    "else:\n",
    "    print \"There are %d sequences with the minimum length of %d\" % (len(max_seqs), min(lengths_vals))\n",
    "print min_seqs_names"
   ]
  },
  {
   "cell_type": "markdown",
   "metadata": {},
   "source": [
    "## 3. Max = 4910, min = 16"
   ]
  },
  {
   "cell_type": "code",
   "execution_count": 17,
   "metadata": {
    "collapsed": true
   },
   "outputs": [],
   "source": [
    "def seq_to_letter_dict(sequence):\n",
    "    '''\n",
    "    Convert a sequence string\n",
    "    to a dictionary of the following type:\n",
    "    (key = letters, value = frequencies of letters)\n",
    "    '''\n",
    "    letter_dict = {}\n",
    "    \n",
    "    def update_dict(x): # additional function to update the dictionary\n",
    "        try:\n",
    "            letter_dict[x] += 1\n",
    "        except KeyError: # when there is a new word, we need to initialise it\n",
    "            letter_dict[x] = 1\n",
    "    _ = map(update_dict, sequence)\n",
    "    return letter_dict\n",
    "    "
   ]
  },
  {
   "cell_type": "code",
   "execution_count": 18,
   "metadata": {
    "collapsed": false
   },
   "outputs": [],
   "source": [
    "seq_letter_dist_dict = dict(map(lambda (k, v): (k, seq_to_letter_dict(v)), seq_dict.iteritems()))"
   ]
  },
  {
   "cell_type": "code",
   "execution_count": 19,
   "metadata": {
    "collapsed": false
   },
   "outputs": [],
   "source": [
    "all_dicts = seq_letter_dist_dict.values()"
   ]
  },
  {
   "cell_type": "code",
   "execution_count": 20,
   "metadata": {
    "collapsed": true
   },
   "outputs": [],
   "source": [
    "from collections import Counter # for summing several dictionaries"
   ]
  },
  {
   "cell_type": "code",
   "execution_count": 21,
   "metadata": {
    "collapsed": false
   },
   "outputs": [],
   "source": [
    "whole_dict = Counter()\n",
    "for dict_ in all_dicts:\n",
    "    whole_dict += Counter(dict_)"
   ]
  },
  {
   "cell_type": "code",
   "execution_count": 22,
   "metadata": {
    "collapsed": true
   },
   "outputs": [],
   "source": [
    "# convert raw numbers to frequencies\n",
    "# i.e. fractions, or ratios\n",
    "total_number = sum(whole_dict.values())\n",
    "for key, value in whole_dict.iteritems():\n",
    "    whole_dict[key] = value / 1.0 / total_number"
   ]
  },
  {
   "cell_type": "code",
   "execution_count": 23,
   "metadata": {
    "collapsed": false
   },
   "outputs": [
    {
     "data": {
      "text/plain": [
       "Counter({'A': 0.05493373740206835,\n",
       "         'C': 0.01259784614490037,\n",
       "         'D': 0.058518707276486656,\n",
       "         'E': 0.06538422729550433,\n",
       "         'F': 0.044172670975288986,\n",
       "         'G': 0.049741841807774335,\n",
       "         'H': 0.02167673703094991,\n",
       "         'I': 0.06556858935659693,\n",
       "         'K': 0.07348692277829179,\n",
       "         'L': 0.09500905563185051,\n",
       "         'M': 0.020805891376883597,\n",
       "         'N': 0.061626524877761796,\n",
       "         'P': 0.043773846924762154,\n",
       "         'Q': 0.03954856948380333,\n",
       "         'R': 0.044353612589979115,\n",
       "         'S': 0.08984349747485544,\n",
       "         'T': 0.059171670494716264,\n",
       "         'V': 0.05559833013806632,\n",
       "         'W': 0.010393710483155157,\n",
       "         'Y': 0.03379401045630465})"
      ]
     },
     "execution_count": 23,
     "metadata": {},
     "output_type": "execute_result"
    }
   ],
   "source": [
    "whole_dict"
   ]
  },
  {
   "cell_type": "markdown",
   "metadata": {},
   "source": [
    "## 4. Distribution of amino-acids"
   ]
  },
  {
   "cell_type": "code",
   "execution_count": 24,
   "metadata": {
    "collapsed": false
   },
   "outputs": [
    {
     "data": {
      "image/png": "[encoded data removed]",
      "text/plain": [
       "<matplotlib.figure.Figure at 0x10820e6d0>"
      ]
     },
     "metadata": {},
     "output_type": "display_data"
    }
   ],
   "source": [
    "X = np.arange(len(whole_dict))\n",
    "plt.bar(X, whole_dict.values(), align = 'center')\n",
    "plt.xticks(X, whole_dict.keys(), rotation=0)\n",
    "ymax = max(whole_dict.values()) + 0.001\n",
    "plt.ylim(0, ymax)\n",
    "plt.xlim(-1, 20)\n",
    "plt.xlabel('Amino Acid')\n",
    "plt.ylabel('Frequency')\n",
    "plt.title('Distribution of amino acids in Scerevisiae')\n",
    "plt.show()"
   ]
  },
  {
   "cell_type": "code",
   "execution_count": null,
   "metadata": {
    "collapsed": true
   },
   "outputs": [],
   "source": []
  }
 ],
 "metadata": {
  "kernelspec": {
   "display_name": "Python 2",
   "language": "python",
   "name": "python2"
  },
  "language_info": {
   "codemirror_mode": {
    "name": "ipython",
    "version": 2
   },
   "file_extension": ".py",
   "mimetype": "text/x-python",
   "name": "python",
   "nbconvert_exporter": "python",
   "pygments_lexer": "ipython2",
   "version": "2.7.10"
  }
 },
 "nbformat": 4,
 "nbformat_minor": 0
}

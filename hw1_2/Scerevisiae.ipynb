{
 "cells": [
  {
   "cell_type": "markdown",
   "metadata": {},
   "source": [
    "# Homework 1"
   ]
  },
  {
   "cell_type": "markdown",
   "metadata": {},
   "source": [
    "## 1. How many sequences?\n",
    "## 2. The lenght of sequences?\n",
    "## 3. The longest (shortest) sequences?\n",
    "## 4. Amino-acid frequency?"
   ]
  },
  {
   "cell_type": "code",
   "execution_count": 1,
   "metadata": {
    "collapsed": true
   },
   "outputs": [],
   "source": [
    "import gzip\n",
    "import re\n",
    "import matplotlib\n",
    "%matplotlib inline\n",
    "import matplotlib.pyplot as plt\n",
    "import operator\n",
    "import numpy as np"
   ]
  },
  {
   "cell_type": "code",
   "execution_count": 2,
   "metadata": {
    "collapsed": true
   },
   "outputs": [],
   "source": [
    "with gzip.GzipFile('Scerevisiae_orf_trans.20150113.fa.gz.gz', 'r') as gz:\n",
    "    seq_dict = dict() # dictionary(key = sequence description, value = sequence)\n",
    "    last_key = None\n",
    "    for line in gz:\n",
    "        trimmed_line = line.strip('\\n') # remove line separator\n",
    "        if trimmed_line.startswith('>'): # additional condition for sequences with the same header\n",
    "            last_key = trimmed_line.strip('>') \n",
    "            seq_dict.setdefault(last_key, '') # initialise new sequence\n",
    "        else:\n",
    "            seq_dict[last_key] += re.sub('\\*', '', trimmed_line) # if key already exists, just append the new line to the sequence"
   ]
  },
  {
   "cell_type": "code",
   "execution_count": 3,
   "metadata": {
    "collapsed": false
   },
   "outputs": [
    {
     "data": {
      "text/plain": [
       "5917"
      ]
     },
     "execution_count": 3,
     "metadata": {},
     "output_type": "execute_result"
    }
   ],
   "source": [
    "len(seq_dict)"
   ]
  },
  {
   "cell_type": "markdown",
   "metadata": {},
   "source": [
    "## 1. 5917 sequences"
   ]
  },
  {
   "cell_type": "code",
   "execution_count": 4,
   "metadata": {
    "collapsed": false
   },
   "outputs": [],
   "source": [
    "seq_dict_len = dict(map(lambda (k, v): (k, (v, len(v))), seq_dict.iteritems())) # description -> (sequence, len(sequence))"
   ]
  },
  {
   "cell_type": "code",
   "execution_count": 5,
   "metadata": {
    "collapsed": false
   },
   "outputs": [
    {
     "data": {
      "text/plain": [
       "('MAVHTNRQILTRGKNYATKQSKKFGTDEVTFDKDSRLDYLTGFHKRKLQRQKKAQEFIKEQERLRKIEERQKIRQERKEVMEEQLKTFKESLNLEAEIEDAKNDKTEDLQVESDESWHGFDSDKDDGDNDNNESSVKPILKKGAITEIYDDSTTVELETLEPNDNFEYLAQLNNVKLEKAEKVLKQSINRATKYAKFLGVDEKQKKKPRVKKFRYLTKNERRINQRKANDNKRRR',\n",
       " 235)"
      ]
     },
     "execution_count": 5,
     "metadata": {},
     "output_type": "execute_result"
    }
   ],
   "source": [
    "seq_dict_len[seq_dict_len.keys()[0]]"
   ]
  },
  {
   "cell_type": "code",
   "execution_count": 6,
   "metadata": {
    "collapsed": true
   },
   "outputs": [],
   "source": [
    "seq_list = seq_dict_len.items()"
   ]
  },
  {
   "cell_type": "code",
   "execution_count": 7,
   "metadata": {
    "collapsed": true
   },
   "outputs": [],
   "source": [
    "seq_list.sort(key=lambda x:x[1][1]) # sorted by decreasing order of the length of the sequence"
   ]
  },
  {
   "cell_type": "markdown",
   "metadata": {},
   "source": [
    "## 2. Lengths of the sequences"
   ]
  },
  {
   "cell_type": "code",
   "execution_count": 8,
   "metadata": {
    "collapsed": true
   },
   "outputs": [],
   "source": [
    "lengths_vals = map(lambda x: x[1][1], seq_list) # all values of the length of the sequence"
   ]
  },
  {
   "cell_type": "code",
   "execution_count": 9,
   "metadata": {
    "collapsed": false
   },
   "outputs": [
    {
     "data": {
      "image/png": "[encoded data removed]",
      "text/plain": [
       "<matplotlib.figure.Figure at 0x10b5b84d0>"
      ]
     },
     "metadata": {},
     "output_type": "display_data"
    }
   ],
   "source": [
    "plt.hist(lengths_vals, bins = 50)\n",
    "plt.title('Distribution of lengths of the sequences')\n",
    "plt.xlabel('Lengths')\n",
    "plt.ylabel('Num. of sequences')\n",
    "plt.show()"
   ]
  },
  {
   "cell_type": "code",
   "execution_count": 10,
   "metadata": {
    "collapsed": false
   },
   "outputs": [
    {
     "data": {
      "text/plain": [
       "4910"
      ]
     },
     "execution_count": 10,
     "metadata": {},
     "output_type": "execute_result"
    }
   ],
   "source": [
    "max(lengths_vals) # max value"
   ]
  },
  {
   "cell_type": "code",
   "execution_count": 11,
   "metadata": {
    "collapsed": true
   },
   "outputs": [],
   "source": [
    "max_seqs = filter(lambda x: x[1][1] == max(lengths_vals), seq_list) # max sequence(s)"
   ]
  },
  {
   "cell_type": "code",
   "execution_count": 12,
   "metadata": {
    "collapsed": false
   },
   "outputs": [
    {
     "name": "stdout",
     "output_type": "stream",
     "text": [
      "There is only one sequence with the maximum sequence length of 4910\n",
      "['YLR106C MDN1 SGDID:S000004096, Chr XII from 363738-349006, Genome Release 64-2-1, reverse complement, Verified ORF, \"Huge dynein-related AAA-type ATPase (midasin); forms extended pre-60S particle with the Rix1 complex (Rix1p-Ipi1p-Ipi3p); acts in removal of ribosomal biogenesis factors at successive steps of pre-60S assembly and export from nucleus\"']\n"
     ]
    }
   ],
   "source": [
    "max_seqs_names = map(lambda x: x[0], max_seqs)\n",
    "if len(max_seqs) == 1:\n",
    "    print \"There is only one sequence with the maximum sequence length of %d\" % max(lengths_vals)\n",
    "else:\n",
    "    print \"There are %d sequences with the maximum length of %d\" % (len(max_seqs), max(lengths_vals))\n",
    "print max_seqs_names"
   ]
  },
  {
   "cell_type": "code",
   "execution_count": 13,
   "metadata": {
    "collapsed": false
   },
   "outputs": [
    {
     "data": {
      "text/plain": [
       "16"
      ]
     },
     "execution_count": 13,
     "metadata": {},
     "output_type": "execute_result"
    }
   ],
   "source": [
    "min(lengths_vals)"
   ]
  },
  {
   "cell_type": "code",
   "execution_count": 14,
   "metadata": {
    "collapsed": true
   },
   "outputs": [],
   "source": [
    "min_seqs = filter(lambda x: x[1][1] == min(lengths_vals), seq_list) # min sequence(s)"
   ]
  },
  {
   "cell_type": "code",
   "execution_count": 15,
   "metadata": {
    "collapsed": false
   },
   "outputs": [
    {
     "name": "stdout",
     "output_type": "stream",
     "text": [
      "There is only one sequence with the minimum sequence length of 16\n",
      "['YJR151W-A YJR151W-A SGDID:S000028557, Chr X from 717580-717630, Genome Release 64-2-1, Uncharacterized ORF, \"Putative protein of unknown function; identified by fungal homology and RT-PCR; predicted to have a role in transcription based on computational \"guilt by association\" analysis\"']\n"
     ]
    }
   ],
   "source": [
    "min_seqs_names = map(lambda x: x[0], min_seqs)\n",
    "if len(min_seqs) == 1:\n",
    "    print \"There is only one sequence with the minimum sequence length of %d\" % min(lengths_vals)\n",
    "else:\n",
    "    print \"There are %d sequences with the minimum length of %d\" % (len(max_seqs), min(lengths_vals))\n",
    "print min_seqs_names"
   ]
  },
  {
   "cell_type": "markdown",
   "metadata": {},
   "source": [
    "## 3. Max = 4910, min = 16"
   ]
  },
  {
   "cell_type": "code",
   "execution_count": 16,
   "metadata": {
    "collapsed": true
   },
   "outputs": [],
   "source": [
    "acid_dict = dict() # dictionary for acids distribution\n",
    "for seq in seq_dict.values():\n",
    "    for acid in seq:\n",
    "        acid_dict.setdefault(acid, 0) # initialise acids\n",
    "        acid_dict[acid] += 1"
   ]
  },
  {
   "cell_type": "code",
   "execution_count": 17,
   "metadata": {
    "collapsed": false
   },
   "outputs": [
    {
     "data": {
      "text/plain": [
       "160604"
      ]
     },
     "execution_count": 17,
     "metadata": {},
     "output_type": "execute_result"
    }
   ],
   "source": [
    "acid_dict['A'] # check"
   ]
  },
  {
   "cell_type": "code",
   "execution_count": 18,
   "metadata": {
    "collapsed": false
   },
   "outputs": [],
   "source": [
    "acid_dict_freq = acid_dict # convert absolute values to fractions\n",
    "total_acids = sum(acid_dict.values())\n",
    "for key, value in acid_dict.iteritems():\n",
    "    acid_dict_freq[key] = value / 1.0 / total_acids"
   ]
  },
  {
   "cell_type": "code",
   "execution_count": 19,
   "metadata": {
    "collapsed": false
   },
   "outputs": [
    {
     "data": {
      "text/plain": [
       "{'A': 0.05493373740206835,\n",
       " 'C': 0.01259784614490037,\n",
       " 'D': 0.058518707276486656,\n",
       " 'E': 0.06538422729550433,\n",
       " 'F': 0.044172670975288986,\n",
       " 'G': 0.049741841807774335,\n",
       " 'H': 0.02167673703094991,\n",
       " 'I': 0.06556858935659693,\n",
       " 'K': 0.07348692277829179,\n",
       " 'L': 0.09500905563185051,\n",
       " 'M': 0.020805891376883597,\n",
       " 'N': 0.061626524877761796,\n",
       " 'P': 0.043773846924762154,\n",
       " 'Q': 0.03954856948380333,\n",
       " 'R': 0.044353612589979115,\n",
       " 'S': 0.08984349747485544,\n",
       " 'T': 0.059171670494716264,\n",
       " 'V': 0.05559833013806632,\n",
       " 'W': 0.010393710483155157,\n",
       " 'Y': 0.03379401045630465}"
      ]
     },
     "execution_count": 19,
     "metadata": {},
     "output_type": "execute_result"
    }
   ],
   "source": [
    "acid_dict_freq"
   ]
  },
  {
   "cell_type": "markdown",
   "metadata": {},
   "source": [
    "## 4. Distribution of amino-acids"
   ]
  },
  {
   "cell_type": "code",
   "execution_count": 20,
   "metadata": {
    "collapsed": false
   },
   "outputs": [
    {
     "data": {
      "image/png": "[encoded data removed]",
      "text/plain": [
       "<matplotlib.figure.Figure at 0x10d441a10>"
      ]
     },
     "metadata": {},
     "output_type": "display_data"
    }
   ],
   "source": [
    "X = np.arange(len(acid_dict_freq))\n",
    "plt.bar(X, acid_dict_freq.values(), align = 'center')\n",
    "plt.xticks(X, acid_dict_freq.keys())\n",
    "ymax = max(acid_dict_freq.values()) + 0.001\n",
    "plt.ylim(0, ymax)\n",
    "plt.xlim(-1, 20)\n",
    "plt.xlabel('Amino Acid')\n",
    "plt.ylabel('Frequency')\n",
    "plt.title('Distribution of amino acids in Scerevisiae')\n",
    "plt.show()"
   ]
  },
  {
   "cell_type": "markdown",
   "metadata": {
    "collapsed": true
   },
   "source": [
    "# Homework 2\n",
    "## Distributions of amino acids in each chromosome"
   ]
  },
  {
   "cell_type": "markdown",
   "metadata": {},
   "source": [
    "### First, we need to extract from the header line the chromosome id\n",
    "### In this case, the header looks like this: [id_of_sequence gene_name, chromosome_id, etc.]"
   ]
  },
  {
   "cell_type": "code",
   "execution_count": 21,
   "metadata": {
    "collapsed": false
   },
   "outputs": [
    {
     "data": {
      "text/plain": [
       "['YDR412W RRP17 SGDID:S000002820',\n",
       " ' Chr IV from 1294693-1295400',\n",
       " ' Genome Release 64-2-1',\n",
       " ' Verified ORF',\n",
       " ' \"Component of the pre-60S pre-ribosomal particle; required for cell viability under standard (aerobic) conditions but not under anaerobic conditions; exonuclease required for 5&#8242; end processing of pre-60S ribosomal RNA\"']"
      ]
     },
     "execution_count": 21,
     "metadata": {},
     "output_type": "execute_result"
    }
   ],
   "source": [
    "seq_dict.keys()[0].split(',') # if we split by comma, we can see that second value in the list contains chromosome identificator"
   ]
  },
  {
   "cell_type": "markdown",
   "metadata": {},
   "source": [
    "### Another way to extract the chromosome identifier is through regular expression"
   ]
  },
  {
   "cell_type": "code",
   "execution_count": 22,
   "metadata": {
    "collapsed": false
   },
   "outputs": [],
   "source": [
    "chromosome_id_keys = [(re.findall(r'.*Chr (\\w+) from', x)[0],y) for x,y in seq_dict.iteritems() if ' Chr ' in x] # extract chromosome id by regular expression"
   ]
  },
  {
   "cell_type": "code",
   "execution_count": 23,
   "metadata": {
    "collapsed": false
   },
   "outputs": [],
   "source": [
    "chromosome_dict = dict() # dictionary (chromosome, sequences)\n",
    "for chrm, seq in chromosome_id_keys:\n",
    "    chromosome_dict.setdefault(chrm, '')\n",
    "    chromosome_dict[chrm] += seq"
   ]
  },
  {
   "cell_type": "code",
   "execution_count": 24,
   "metadata": {
    "collapsed": false
   },
   "outputs": [],
   "source": [
    "assert(len(''.join(dict((x, y) for x,y in seq_dict.iteritems() if ' Chr ' in x).values())) == len(''.join(chromosome_dict.values()))) # check that the length of the whole protein stays the same"
   ]
  },
  {
   "cell_type": "code",
   "execution_count": 25,
   "metadata": {
    "collapsed": false
   },
   "outputs": [
    {
     "name": "stdout",
     "output_type": "stream",
     "text": [
      "The total number of chromosomes is 17\n",
      "These chromosomes are ['IX', 'VI', 'XI', 'I', 'XV', 'VII', 'IV', 'II', 'Mito', 'XII', 'XIII', 'XVI', 'VIII', 'XIV', 'V', 'X', 'III']\n"
     ]
    }
   ],
   "source": [
    "print \"The total number of chromosomes is %d\" % len(chromosome_dict.keys())\n",
    "print \"These chromosomes are\", chromosome_dict.keys()"
   ]
  },
  {
   "cell_type": "code",
   "execution_count": 26,
   "metadata": {
    "collapsed": true
   },
   "outputs": [],
   "source": [
    "plt.rcParams['figure.figsize'] = (15, 20.0)\n",
    "plt.rcParams['image.interpolation'] = 'nearest'\n",
    "plt.rcParams['image.cmap'] = 'gray'"
   ]
  },
  {
   "cell_type": "code",
   "execution_count": 27,
   "metadata": {
    "collapsed": false
   },
   "outputs": [
    {
     "data": {
      "image/png": "[encoded data removed]",
      "text/plain": [
       "<matplotlib.figure.Figure at 0x10d8d76d0>"
      ]
     },
     "metadata": {},
     "output_type": "display_data"
    }
   ],
   "source": [
    "col = 0\n",
    "row = 0\n",
    "ind = 0\n",
    "\n",
    "for chr_id, chr_seq in chromosome_dict.iteritems():\n",
    "    ind += 1\n",
    "    \n",
    "    plt.subplots_adjust(hspace=.7)\n",
    "    plt.subplot(6, 3, ind) # 6 rows, 3 cols\n",
    "    \n",
    "    letters_dict = dict()\n",
    "    for letter in chr_seq:\n",
    "        try:\n",
    "            letters_dict[letter] += 1\n",
    "        except KeyError:\n",
    "            letters_dict.setdefault(letter, 1)\n",
    "            \n",
    "    # convert raw numbers to frequencies\n",
    "    # i.e. fractions, or ratios\n",
    "    total_number = sum(letters_dict.values())\n",
    "    for key, value in letters_dict.iteritems():\n",
    "        letters_dict[key] = value / 1.0 / total_number        \n",
    "    \n",
    "    X = np.arange(len(letters_dict))\n",
    "    plt.bar(X, letters_dict.values(), align = 'center')\n",
    "    plt.xticks(X, letters_dict.keys(), rotation=0)\n",
    "    ymax = max(letters_dict.values()) + 0.001\n",
    "    plt.axhline(y=np.median(letters_dict.values()), xmin=-1, xmax=20, linewidth=1, color = 'r', label = 'median')\n",
    "    plt.ylim(0, ymax)\n",
    "    plt.xlim(-1, 20)\n",
    "    #plt.xlabel('Amino Acid')\n",
    "    if ind % 3 == 1:\n",
    "        plt.ylabel('Frequency')\n",
    "    plt.title(chr_id)\n",
    "    plt.legend(loc = 2)\n",
    "plt.show()"
   ]
  },
  {
   "cell_type": "code",
   "execution_count": 28,
   "metadata": {
    "collapsed": false
   },
   "outputs": [
    {
     "data": {
      "image/png": "[encoded data removed]",
      "text/plain": [
       "<matplotlib.figure.Figure at 0x10fa27290>"
      ]
     },
     "metadata": {},
     "output_type": "display_data"
    }
   ],
   "source": [
    "plt.figure(figsize= (10, 6.0))\n",
    "\n",
    "# convert raw numbers to frequencies\n",
    "# i.e. fractions, or ratios\n",
    "chromosome_len_dict = dict()\n",
    "total_number = sum(map(len, chromosome_dict.values()))\n",
    "\n",
    "for key, value in chromosome_dict.iteritems():\n",
    "    chromosome_len_dict.setdefault(key, len(value) / 1.0 / total_number)        \n",
    "\n",
    "chromosome_len_dict = sorted(chromosome_len_dict.items(), key = operator.itemgetter(1))\n",
    "X = np.arange(len(chromosome_len_dict))\n",
    "plt.bar(X, [x[1] for x in chromosome_len_dict], align = 'center')\n",
    "plt.xticks(X, [x[0] for x in chromosome_len_dict], rotation=0)\n",
    "ymax = max([x[1] for x in chromosome_len_dict]) + 0.001\n",
    "#plt.axhline(y=np.median(letters_dict.values()), xmin=-1, xmax=20, linewidth=1, color = 'r', label = 'median')\n",
    "plt.ylim(0, ymax)\n",
    "plt.xlim(-1, len(X))\n",
    "plt.xlabel('Chromosome')\n",
    "plt.ylabel('Fraction')\n",
    "plt.title(\"Fraction of proteins per each chromosome\")\n",
    "plt.show()"
   ]
  }
 ],
 "metadata": {
  "kernelspec": {
   "display_name": "Python 2",
   "language": "python",
   "name": "python2"
  },
  "language_info": {
   "codemirror_mode": {
    "name": "ipython",
    "version": 2
   },
   "file_extension": ".py",
   "mimetype": "text/x-python",
   "name": "python",
   "nbconvert_exporter": "python",
   "pygments_lexer": "ipython2",
   "version": "2.7.10"
  }
 },
 "nbformat": 4,
 "nbformat_minor": 0
}
